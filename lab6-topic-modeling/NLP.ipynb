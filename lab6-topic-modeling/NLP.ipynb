{
  "nbformat": 4,
  "nbformat_minor": 0,
  "metadata": {
    "colab": {
      "provenance": []
    },
    "kernelspec": {
      "name": "python3",
      "display_name": "Python 3"
    },
    "language_info": {
      "name": "python"
    }
  },
  "cells": [
    {
      "cell_type": "markdown",
      "source": [
        "## Czym jest Topic Modeling?\n",
        "\n",
        "**Topic Modeling** to technika eksploracji tekstu w celu automatycznego odkrywania ukrytych tematów (ang. *topics*) w dużych zbiorach dokumentów. Zamiast oznaczać teksty ręcznie, model sam:\n",
        "\n",
        "1. Analizuje współwystępowanie słów w dokumentach.  \n",
        "2. Grupuje słowa występujące razem w spójne zestawy, które traktujemy jako „tematy” (np. zestaw słów „rakieta, orbita, NASA” może tworzyć temat „kosmos”).  \n",
        "3. Dla każdego dokumentu określa, w jakim stopniu odnosi się on do każdego z tematów.\n",
        "\n",
        "Dzięki temu można:\n",
        "- Podsumować główne wątki w korpusie tekstów bez nadzoru człowieka.  \n",
        "- Wyszukiwać dokumenty o podobnej zawartości tematycznej.  \n",
        "- Wizualizować ewolucję tematów w czasie.  \n",
        "\n",
        "---\n",
        "\n",
        "## Czym jest Text Classification?\n",
        "\n",
        "**Text Classification** (klasyfikacja tekstu) to proces przypisywania etykiet (kategorí) do dokumentów na podstawie ich treści. Zazwyczaj wymaga:\n",
        "1. **Zbioru treningowego** z ręcznie oznaczonymi przykładami (np. dokumenty już sklasyfikowane jako „sport”, „polityka”, „kultura”).  \n",
        "2. **Modelu nadzorowanego** uczącego się związku pomiędzy cechami tekstu (np. częstość słów) a kategoriami.  \n",
        "3. **Predykcji** – po wytrenowaniu model potrafi automatycznie przypisać nowy dokument do jednej (lub więcej) ustalonych klas.\n",
        "\n",
        "Przykłady zastosowań:\n",
        "- Filtry antyspamowe (spam vs. nie–spam).  \n",
        "- Analiza sentymentu (pozytywny vs. negatywny).  \n",
        "- Automatyczne oznaczanie tematów w wiadomościach.\n",
        "\n",
        "---\n",
        "\n",
        "## Główne różnice\n",
        "\n",
        "| Aspekt                      | Topic Modeling                             | Text Classification                          |\n",
        "|-----------------------------|---------------------------------------------|-----------------------------------------------|\n",
        "| **Nadzór**                  | Bez nadzoru (unsupervised)                  | Nadzorowany (supervised)                      |\n",
        "| **Etykiety**                | Brak gotowych etykiet – model sam je odkrywa| Etykiety znane z góry i wymagana etykietacja  |\n",
        "| **Cel**                     | Odkrywanie ukrytych tematów                 | Przypisanie dokumentu do jednej/kilku klas    |\n",
        "| **Zbiór treningowy**        | Wystarczy surowy korpus tekstów             | Wymaga oznaczonych przykładów                 |\n",
        "| **Elastyczność**            | Adaptuje się do dowolnego korpusu           | Ograniczona do zdefiniowanych klas            |\n",
        "| **Interpretacja wyników**   | Tematy są mieszanką słów, potrzebują interpretacji | Wynik to konkretna etykieta                   |\n",
        "| **Zastosowania**            | Eksploracja, analiza trendów, segmentacja   | Filtry, automatyczne decyzje, raportowanie   |\n",
        "\n",
        "---\n",
        "\n",
        "### Podsumowanie\n",
        "\n",
        "- **Topic Modeling** to narzędzie do **eksploracji** i **odkrywania** struktury tematycznej dużych zbiorów tekstów bez wcześniejszego oznaczania danych.  \n",
        "- **Text Classification** to technika do **automatycznego etykietowania** nowych dokumentów na podstawie wcześniej przygotowanego, oznaczonego zbioru treningowego.  \n",
        "\n",
        "Obie metody są kluczowe w NLP, ale służą różnym celom: Topic Modeling pomaga zrozumieć, **o czym** są dokumenty, a klasyfikacja – **jak** zaklasyfikować je według znanych kategorii.  \n"
      ],
      "metadata": {
        "id": "G0UiEL6Hrj5C"
      }
    },
    {
      "cell_type": "markdown",
      "source": [
        "- [Topic Modeling](https://www.datacamp.com/tutorial/what-is-topic-modeling)\n",
        "- [Topic Modeling by IBM](https://www.ibm.com/think/topics/topic-modeling)\n",
        "- [LDA,LSA itd](https://medium.com/@m.nath/topic-modeling-algorithms-b7f97cec6005)\n",
        "- [Topic Modeling metody](https://cognitivemachine.medium.com/topic-modelling-techniques-f1ce0d0c3262)"
      ],
      "metadata": {
        "id": "CI1qN8s-rNzp"
      }
    },
    {
      "cell_type": "code",
      "source": [
        "import matplotlib.pyplot as plt\n",
        "from sklearn.feature_extraction.text import CountVectorizer\n",
        "from sklearn.decomposition import LatentDirichletAllocation\n",
        "\n",
        "# 1. Przygotowanie przykładowych dokumentów\n",
        "documents = [\n",
        "    \"Rakieta NASA leci na orbitę okołoziemską\",\n",
        "    \"Silnik samochodowy generuje moc i moment obrotowy\",\n",
        "    \"NASA planuje nową misję na Marsa\",\n",
        "    \"Kierowca testuje silnik w warsztacie samochodowym\",\n",
        "    \"Zespół piłkarski zdobywa bramkę w ostatniej minucie\",\n",
        "    \"Mecze piłki nożnej przyciągają wielu kibiców\"\n",
        "]\n",
        "\n",
        "# 2. Wektoryzacja: macierz dokument-słowo (bag-of-words)\n",
        "vectorizer = CountVectorizer()\n",
        "dt_matrix = vectorizer.fit_transform(documents)\n",
        "\n",
        "# 3. Trenowanie modelu LDA na 2 tematach\n",
        "lda = LatentDirichletAllocation(n_components=2, random_state=0)\n",
        "lda.fit(dt_matrix)\n",
        "\n",
        "# 4. Wyciągnięcie top 5 słów i ich wag dla każdego tematu\n",
        "n_top = 5\n",
        "feature_names = vectorizer.get_feature_names_out()\n",
        "topics = []\n",
        "for idx, comp in enumerate(lda.components_):\n",
        "    top_indices = comp.argsort()[:-n_top - 1:-1]      # indeksy 5 najwyższych wag\n",
        "    words = [feature_names[i] for i in top_indices]  # słowa dla tych indeksów\n",
        "    weights = comp[top_indices]                      # odpowiadające wagi\n",
        "    topics.append((idx, words, weights))\n",
        "\n",
        "# 5. Wizualizacja: słupki pokazujące wagi top-słów dla każdego tematu\n",
        "fig, axes = plt.subplots(1, len(topics), figsize=(10, 4))\n",
        "for ax, (topic_idx, words, weights) in zip(axes, topics):\n",
        "    ax.barh(words, weights)                          # wykres poziomy\n",
        "    ax.set_title(f\"Temat {topic_idx + 1}\")           # tytuł wykresu\n",
        "    ax.invert_yaxis()                                # najwyższe na górze\n",
        "plt.tight_layout()\n",
        "plt.show()\n"
      ],
      "metadata": {
        "colab": {
          "base_uri": "https://localhost:8080/",
          "height": 407
        },
        "id": "3lUtTwE4syxT",
        "outputId": "89e0c6fd-c4ed-4217-9eeb-2d3295d4d27a"
      },
      "execution_count": 10,
      "outputs": [
        {
          "output_type": "display_data",
          "data": {
            "text/plain": [
              "<Figure size 1000x400 with 2 Axes>"
            ],
            "image/png": "[encoded data removed]"
          },
          "metadata": {}
        }
      ]
    },
    {
      "cell_type": "code",
      "source": [
        "!pip install gensim"
      ],
      "metadata": {
        "id": "Mcb2qXpyrN-g"
      },
      "execution_count": null,
      "outputs": []
    },
    {
      "cell_type": "code",
      "source": [
        "from sklearn.datasets import fetch_20newsgroups\n",
        "from sklearn.feature_extraction.text import TfidfVectorizer\n",
        "from sklearn.decomposition import LatentDirichletAllocation   # LDA\n",
        "from gensim.models import Word2Vec                            # Word2Vec z gensim\n",
        "from gensim.utils import simple_preprocess\n",
        "\n",
        "# 2. Wczytujemy podzbiór Train z wybranych kategorii\n",
        "categories = ['sci.space', 'rec.autos', 'comp.graphics']\n",
        "newsgroups = fetch_20newsgroups(\n",
        "    subset='train',\n",
        "    categories=categories,          # interesujące nas kategorie\n",
        "    remove=('headers','footers','quotes')  # usuwamy nagłówki, stopki, cytaty\n",
        ")\n",
        "documents = newsgroups.data[:200]    # bierzemy pierwsze 200 dokumentów bo zasowby\n",
        "\n",
        "# 3. TF-IDF + LDA\n",
        "tfidf = TfidfVectorizer(\n",
        "    max_df=0.8,\n",
        "    min_df=5,\n",
        "    stop_words='english'             # angielskie stop-words\n",
        ")\n",
        "tfidf_matrix = tfidf.fit_transform(documents)  # uczymy i przekształcamy teksty\n",
        "lda = LatentDirichletAllocation(\n",
        "    n_components=3,                  # szukamy 3 tematów\n",
        "    max_iter=10,\n",
        "    random_state=0\n",
        ")\n",
        "lda.fit(tfidf_matrix)               # trenujemy model\n",
        "\n",
        "# 4. Wyświetlamy top-5 słów dla każdego tematu\n",
        "n_top = 5\n",
        "feature_names = tfidf.get_feature_names_out()\n",
        "for idx, comp in enumerate(lda.components_):\n",
        "    top_indices = comp.argsort()[:-n_top-1:-1]\n",
        "    top_words = [feature_names[i] for i in top_indices]\n",
        "    print(f\"Temat {idx+1}: {', '.join(top_words)}\")\n",
        "\n",
        "# 5. Przygotowanie dokumentów dla Word2Vec\n",
        "tokenized = [simple_preprocess(doc) for doc in documents]\n",
        "# simple_preprocess: lowercase, usunięcie nieliterowych, tokenizacja\n",
        "\n",
        "# 6. Trenowanie Word2Vec\n",
        "w2v = Word2Vec(\n",
        "    sentences=tokenized,   # nasze tokenizowane dokumenty\n",
        "    vector_size=100,       # wymiar wektorów\n",
        "    window=5,              # okno kontekstowe ±5 słów\n",
        "    min_count=3,           # ignoruj słowa poniżej 3 wystąpień\n",
        "    workers=4,\n",
        "    epochs=50\n",
        ")\n",
        "\n",
        "# 7. Przykładowe użycie: podobieństwo słów\n",
        "query = 'space'\n",
        "if query in w2v.wv:\n",
        "    print(f\"\\nVektor {query}[:5]:\", w2v.wv[query][:5])\n",
        "    print(\"3 najbardziej podobne słowa:\", w2v.wv.most_similar(query, topn=3))\n",
        "else:\n",
        "    print(f\"Słowo '{query}' nie znalazło się w modelu.\")\n"
      ],
      "metadata": {
        "colab": {
          "base_uri": "https://localhost:8080/"
        },
        "id": "gxJ2zEV5rL3j",
        "outputId": "fbd9d5d4-56af-47d0-d611-a41ed9615670"
      },
      "execution_count": 9,
      "outputs": [
        {
          "output_type": "stream",
          "name": "stdout",
          "text": [
            "Temat 1: know, thanks, car, claim, windows\n",
            "Temat 2: space, car, just, nasa, like\n",
            "Temat 3: library, stuff, driver, file, quite\n",
            "\n",
            "Vektor space[:5]: [ 1.7716862   2.5895255  -0.58377486  0.29579803 -0.739732  ]\n",
            "3 najbardziej podobne słowa: [('johnson', 0.7220004796981812), ('agency', 0.7011113166809082), ('shuttle', 0.6910684108734131)]\n"
          ]
        }
      ]
    },
    {
      "cell_type": "code",
      "source": [
        "import matplotlib.pyplot as plt\n",
        "from sklearn.feature_extraction.text import TfidfVectorizer\n",
        "from sklearn.decomposition import TruncatedSVD\n",
        "\n",
        "# 1. Przykładowe dokumenty\n",
        "documents = [\n",
        "    \"Rakieta NASA leci na orbitę okołoziemską\",\n",
        "    \"Silnik samochodowy generuje moc i moment obrotowy\",\n",
        "    \"NASA planuje nową misję na Marsa\",\n",
        "    \"Kierowca testuje silnik w warsztacie samochodowym\",\n",
        "    \"Zespół piłkarski zdobywa bramkę w ostatniej minucie\",\n",
        "    \"Mecze piłki nożnej przyciągają wielu kibiców\"\n",
        "]\n",
        "\n",
        "# 2. TF-IDF wektoryzacja dokumentów\n",
        "vectorizer = TfidfVectorizer(stop_words='english')\n",
        "tfidf_matrix = vectorizer.fit_transform(documents)\n",
        "\n",
        "# 3. LSA przez SVD: redukcja do 2 komponentów\n",
        "svd = TruncatedSVD(n_components=2, random_state=0)\n",
        "svd.fit(tfidf_matrix)\n",
        "\n",
        "# 4. Wyciągamy top 5 słów dla każdej komponenty\n",
        "n_top = 5\n",
        "feature_names = vectorizer.get_feature_names_out()\n",
        "components = []\n",
        "for idx, comp in enumerate(svd.components_):\n",
        "    top_indices = comp.argsort()[:-n_top-1:-1]\n",
        "    words = [feature_names[i] for i in top_indices]\n",
        "    weights = comp[top_indices]\n",
        "    components.append((idx, words, weights))\n",
        "\n",
        "# 5. Wizualizacja: wykres słupkowy top słów dla każdej komponenty\n",
        "fig, axes = plt.subplots(1, len(components), figsize=(10, 4))\n",
        "for ax, (comp_idx, words, weights) in zip(axes, components):\n",
        "    ax.barh(words, weights)\n",
        "    ax.set_title(f\"Komponenta {comp_idx + 1}\")\n",
        "    ax.invert_yaxis()\n",
        "plt.tight_layout()\n",
        "plt.show()\n"
      ],
      "metadata": {
        "colab": {
          "base_uri": "https://localhost:8080/",
          "height": 407
        },
        "id": "xipj579VtV1p",
        "outputId": "b9f48bdf-aca1-4581-d8b8-edbaf1641150"
      },
      "execution_count": 11,
      "outputs": [
        {
          "output_type": "display_data",
          "data": {
            "text/plain": [
              "<Figure size 1000x400 with 2 Axes>"
            ],
            "image/png": "[encoded data removed]"
          },
          "metadata": {}
        }
      ]
    },
    {
      "cell_type": "code",
      "source": [
        "import matplotlib.pyplot as plt\n",
        "from sklearn.feature_extraction.text import TfidfVectorizer\n",
        "from sklearn.decomposition import NMF\n",
        "\n",
        "# 1. Przykładowe dokumenty\n",
        "documents = [\n",
        "    \"Rakieta NASA leci na orbitę okołoziemską\",\n",
        "    \"Silnik samochodowy generuje moc i moment obrotowy\",\n",
        "    \"NASA planuje nową misję na Marsa\",\n",
        "    \"Kierowca testuje silnik w warsztacie samochodowym\",\n",
        "    \"Zespół piłkarski zdobywa bramkę w ostatniej minucie\",\n",
        "    \"Mecze piłki nożnej przyciągają wielu kibiców\"\n",
        "]\n",
        "\n",
        "# 2. TF-IDF wektoryzacja dokumentów\n",
        "vectorizer = TfidfVectorizer(stop_words='english')\n",
        "tfidf_matrix = vectorizer.fit_transform(documents)\n",
        "\n",
        "# 3. NMF: redukcja do 2 tematów\n",
        "nmf = NMF(n_components=2, random_state=0, init='nndsvda', max_iter=200)\n",
        "W = nmf.fit_transform(tfidf_matrix)  # macierz dokument-temat\n",
        "H = nmf.components_                  # macierz temat-słowo\n",
        "\n",
        "# 4. Wyciągamy top 5 słów dla każdego tematu\n",
        "n_top = 5\n",
        "feature_names = vectorizer.get_feature_names_out()\n",
        "topics = []\n",
        "for topic_idx, topic_weights in enumerate(H):\n",
        "    top_indices = topic_weights.argsort()[:-n_top-1:-1]\n",
        "    words = [feature_names[i] for i in top_indices]\n",
        "    weights = topic_weights[top_indices]\n",
        "    topics.append((topic_idx, words, weights))\n",
        "\n",
        "# 5. Wizualizacja: wykres słupkowy top słów dla każdego tematu\n",
        "fig, axes = plt.subplots(1, len(topics), figsize=(10, 4))\n",
        "for ax, (topic_idx, words, weights) in zip(axes, topics):\n",
        "    ax.barh(words, weights)\n",
        "    ax.set_title(f\"Temat {topic_idx + 1}\")\n",
        "    ax.invert_yaxis()\n",
        "plt.tight_layout()\n",
        "plt.show()\n"
      ],
      "metadata": {
        "colab": {
          "base_uri": "https://localhost:8080/",
          "height": 407
        },
        "id": "y_89UJn1teV7",
        "outputId": "440c1735-158a-4728-b93f-3a9c453ba39f"
      },
      "execution_count": 12,
      "outputs": [
        {
          "output_type": "display_data",
          "data": {
            "text/plain": [
              "<Figure size 1000x400 with 2 Axes>"
            ],
            "image/png": "[encoded data removed]"
          },
          "metadata": {}
        }
      ]
    },
    {
      "cell_type": "code",
      "source": [
        "!pip install bertopic"
      ],
      "metadata": {
        "colab": {
          "base_uri": "https://localhost:8080/"
        },
        "id": "XN7rm4SituGI",
        "outputId": "e4cf5ef5-9579-4677-a41e-3d9a2f5da7c6"
      },
      "execution_count": 13,
      "outputs": [
        {
          "output_type": "stream",
          "name": "stdout",
          "text": [
            "Collecting bertopic\n",
            "  Downloading bertopic-0.17.0-py3-none-any.whl.metadata (23 kB)\n",
            "Requirement already satisfied: hdbscan>=0.8.29 in /usr/local/lib/python3.11/dist-packages (from bertopic) (0.8.40)\n",
            "Requirement already satisfied: numpy>=1.20.0 in /usr/local/lib/python3.11/dist-packages (from bertopic) (1.26.4)\n",
            "Requirement already satisfied: pandas>=1.1.5 in /usr/local/lib/python3.11/dist-packages (from bertopic) (2.2.2)\n",
            "Requirement already satisfied: plotly>=4.7.0 in /usr/local/lib/python3.11/dist-packages (from bertopic) (5.24.1)\n",
            "Requirement already satisfied: scikit-learn>=1.0 in /usr/local/lib/python3.11/dist-packages (from bertopic) (1.6.1)\n",
            "Requirement already satisfied: sentence-transformers>=0.4.1 in /usr/local/lib/python3.11/dist-packages (from bertopic) (4.1.0)\n",
            "Requirement already satisfied: tqdm>=4.41.1 in /usr/local/lib/python3.11/dist-packages (from bertopic) (4.67.1)\n",
            "Requirement already satisfied: umap-learn>=0.5.0 in /usr/local/lib/python3.11/dist-packages (from bertopic) (0.5.7)\n",
            "Requirement already satisfied: scipy>=1.0 in /usr/local/lib/python3.11/dist-packages (from hdbscan>=0.8.29->bertopic) (1.13.1)\n",
            "Requirement already satisfied: joblib>=1.0 in /usr/local/lib/python3.11/dist-packages (from hdbscan>=0.8.29->bertopic) (1.5.0)\n",
            "Requirement already satisfied: python-dateutil>=2.8.2 in /usr/local/lib/python3.11/dist-packages (from pandas>=1.1.5->bertopic) (2.9.0.post0)\n",
            "Requirement already satisfied: pytz>=2020.1 in /usr/local/lib/python3.11/dist-packages (from pandas>=1.1.5->bertopic) (2025.2)\n",
            "Requirement already satisfied: tzdata>=2022.7 in /usr/local/lib/python3.11/dist-packages (from pandas>=1.1.5->bertopic) (2025.2)\n",
            "Requirement already satisfied: tenacity>=6.2.0 in /usr/local/lib/python3.11/dist-packages (from plotly>=4.7.0->bertopic) (9.1.2)\n",
            "Requirement already satisfied: packaging in /usr/local/lib/python3.11/dist-packages (from plotly>=4.7.0->bertopic) (24.2)\n",
            "Requirement already satisfied: threadpoolctl>=3.1.0 in /usr/local/lib/python3.11/dist-packages (from scikit-learn>=1.0->bertopic) (3.6.0)\n",
            "Requirement already satisfied: transformers<5.0.0,>=4.41.0 in /usr/local/lib/python3.11/dist-packages (from sentence-transformers>=0.4.1->bertopic) (4.51.3)\n",
            "Requirement already satisfied: torch>=1.11.0 in /usr/local/lib/python3.11/dist-packages (from sentence-transformers>=0.4.1->bertopic) (2.6.0+cu124)\n",
            "Requirement already satisfied: huggingface-hub>=0.20.0 in /usr/local/lib/python3.11/dist-packages (from sentence-transformers>=0.4.1->bertopic) (0.31.2)\n",
            "Requirement already satisfied: Pillow in /usr/local/lib/python3.11/dist-packages (from sentence-transformers>=0.4.1->bertopic) (11.2.1)\n",
            "Requirement already satisfied: typing_extensions>=4.5.0 in /usr/local/lib/python3.11/dist-packages (from sentence-transformers>=0.4.1->bertopic) (4.13.2)\n",
            "Requirement already satisfied: numba>=0.51.2 in /usr/local/lib/python3.11/dist-packages (from umap-learn>=0.5.0->bertopic) (0.60.0)\n",
            "Requirement already satisfied: pynndescent>=0.5 in /usr/local/lib/python3.11/dist-packages (from umap-learn>=0.5.0->bertopic) (0.5.13)\n",
            "Requirement already satisfied: filelock in /usr/local/lib/python3.11/dist-packages (from huggingface-hub>=0.20.0->sentence-transformers>=0.4.1->bertopic) (3.18.0)\n",
            "Requirement already satisfied: fsspec>=2023.5.0 in /usr/local/lib/python3.11/dist-packages (from huggingface-hub>=0.20.0->sentence-transformers>=0.4.1->bertopic) (2025.3.2)\n",
            "Requirement already satisfied: pyyaml>=5.1 in /usr/local/lib/python3.11/dist-packages (from huggingface-hub>=0.20.0->sentence-transformers>=0.4.1->bertopic) (6.0.2)\n",
            "Requirement already satisfied: requests in /usr/local/lib/python3.11/dist-packages (from huggingface-hub>=0.20.0->sentence-transformers>=0.4.1->bertopic) (2.32.3)\n",
            "Requirement already satisfied: llvmlite<0.44,>=0.43.0dev0 in /usr/local/lib/python3.11/dist-packages (from numba>=0.51.2->umap-learn>=0.5.0->bertopic) (0.43.0)\n",
            "Requirement already satisfied: six>=1.5 in /usr/local/lib/python3.11/dist-packages (from python-dateutil>=2.8.2->pandas>=1.1.5->bertopic) (1.17.0)\n",
            "Requirement already satisfied: networkx in /usr/local/lib/python3.11/dist-packages (from torch>=1.11.0->sentence-transformers>=0.4.1->bertopic) (3.4.2)\n",
            "Requirement already satisfied: jinja2 in /usr/local/lib/python3.11/dist-packages (from torch>=1.11.0->sentence-transformers>=0.4.1->bertopic) (3.1.6)\n",
            "Collecting nvidia-cuda-nvrtc-cu12==12.4.127 (from torch>=1.11.0->sentence-transformers>=0.4.1->bertopic)\n",
            "  Downloading nvidia_cuda_nvrtc_cu12-12.4.127-py3-none-manylinux2014_x86_64.whl.metadata (1.5 kB)\n",
            "Collecting nvidia-cuda-runtime-cu12==12.4.127 (from torch>=1.11.0->sentence-transformers>=0.4.1->bertopic)\n",
            "  Downloading nvidia_cuda_runtime_cu12-12.4.127-py3-none-manylinux2014_x86_64.whl.metadata (1.5 kB)\n",
            "Collecting nvidia-cuda-cupti-cu12==12.4.127 (from torch>=1.11.0->sentence-transformers>=0.4.1->bertopic)\n",
            "  Downloading nvidia_cuda_cupti_cu12-12.4.127-py3-none-manylinux2014_x86_64.whl.metadata (1.6 kB)\n",
            "Collecting nvidia-cudnn-cu12==9.1.0.70 (from torch>=1.11.0->sentence-transformers>=0.4.1->bertopic)\n",
            "  Downloading nvidia_cudnn_cu12-9.1.0.70-py3-none-manylinux2014_x86_64.whl.metadata (1.6 kB)\n",
            "Collecting nvidia-cublas-cu12==12.4.5.8 (from torch>=1.11.0->sentence-transformers>=0.4.1->bertopic)\n",
            "  Downloading nvidia_cublas_cu12-12.4.5.8-py3-none-manylinux2014_x86_64.whl.metadata (1.5 kB)\n",
            "Collecting nvidia-cufft-cu12==11.2.1.3 (from torch>=1.11.0->sentence-transformers>=0.4.1->bertopic)\n",
            "  Downloading nvidia_cufft_cu12-11.2.1.3-py3-none-manylinux2014_x86_64.whl.metadata (1.5 kB)\n",
            "Collecting nvidia-curand-cu12==10.3.5.147 (from torch>=1.11.0->sentence-transformers>=0.4.1->bertopic)\n",
            "  Downloading nvidia_curand_cu12-10.3.5.147-py3-none-manylinux2014_x86_64.whl.metadata (1.5 kB)\n",
            "Collecting nvidia-cusolver-cu12==11.6.1.9 (from torch>=1.11.0->sentence-transformers>=0.4.1->bertopic)\n",
            "  Downloading nvidia_cusolver_cu12-11.6.1.9-py3-none-manylinux2014_x86_64.whl.metadata (1.6 kB)\n",
            "Collecting nvidia-cusparse-cu12==12.3.1.170 (from torch>=1.11.0->sentence-transformers>=0.4.1->bertopic)\n",
            "  Downloading nvidia_cusparse_cu12-12.3.1.170-py3-none-manylinux2014_x86_64.whl.metadata (1.6 kB)\n",
            "Requirement already satisfied: nvidia-cusparselt-cu12==0.6.2 in /usr/local/lib/python3.11/dist-packages (from torch>=1.11.0->sentence-transformers>=0.4.1->bertopic) (0.6.2)\n",
            "Requirement already satisfied: nvidia-nccl-cu12==2.21.5 in /usr/local/lib/python3.11/dist-packages (from torch>=1.11.0->sentence-transformers>=0.4.1->bertopic) (2.21.5)\n",
            "Requirement already satisfied: nvidia-nvtx-cu12==12.4.127 in /usr/local/lib/python3.11/dist-packages (from torch>=1.11.0->sentence-transformers>=0.4.1->bertopic) (12.4.127)\n",
            "Collecting nvidia-nvjitlink-cu12==12.4.127 (from torch>=1.11.0->sentence-transformers>=0.4.1->bertopic)\n",
            "  Downloading nvidia_nvjitlink_cu12-12.4.127-py3-none-manylinux2014_x86_64.whl.metadata (1.5 kB)\n",
            "Requirement already satisfied: triton==3.2.0 in /usr/local/lib/python3.11/dist-packages (from torch>=1.11.0->sentence-transformers>=0.4.1->bertopic) (3.2.0)\n",
            "Requirement already satisfied: sympy==1.13.1 in /usr/local/lib/python3.11/dist-packages (from torch>=1.11.0->sentence-transformers>=0.4.1->bertopic) (1.13.1)\n",
            "Requirement already satisfied: mpmath<1.4,>=1.1.0 in /usr/local/lib/python3.11/dist-packages (from sympy==1.13.1->torch>=1.11.0->sentence-transformers>=0.4.1->bertopic) (1.3.0)\n",
            "Requirement already satisfied: regex!=2019.12.17 in /usr/local/lib/python3.11/dist-packages (from transformers<5.0.0,>=4.41.0->sentence-transformers>=0.4.1->bertopic) (2024.11.6)\n",
            "Requirement already satisfied: tokenizers<0.22,>=0.21 in /usr/local/lib/python3.11/dist-packages (from transformers<5.0.0,>=4.41.0->sentence-transformers>=0.4.1->bertopic) (0.21.1)\n",
            "Requirement already satisfied: safetensors>=0.4.3 in /usr/local/lib/python3.11/dist-packages (from transformers<5.0.0,>=4.41.0->sentence-transformers>=0.4.1->bertopic) (0.5.3)\n",
            "Requirement already satisfied: MarkupSafe>=2.0 in /usr/local/lib/python3.11/dist-packages (from jinja2->torch>=1.11.0->sentence-transformers>=0.4.1->bertopic) (3.0.2)\n",
            "Requirement already satisfied: charset-normalizer<4,>=2 in /usr/local/lib/python3.11/dist-packages (from requests->huggingface-hub>=0.20.0->sentence-transformers>=0.4.1->bertopic) (3.4.2)\n",
            "Requirement already satisfied: idna<4,>=2.5 in /usr/local/lib/python3.11/dist-packages (from requests->huggingface-hub>=0.20.0->sentence-transformers>=0.4.1->bertopic) (3.10)\n",
            "Requirement already satisfied: urllib3<3,>=1.21.1 in /usr/local/lib/python3.11/dist-packages (from requests->huggingface-hub>=0.20.0->sentence-transformers>=0.4.1->bertopic) (2.4.0)\n",
            "Requirement already satisfied: certifi>=2017.4.17 in /usr/local/lib/python3.11/dist-packages (from requests->huggingface-hub>=0.20.0->sentence-transformers>=0.4.1->bertopic) (2025.4.26)\n",
            "Downloading bertopic-0.17.0-py3-none-any.whl (150 kB)\n",
            "\u001b[2K   \u001b[90m━━━━━━━━━━━━━━━━━━━━━━━━━━━━━━━━━━━━━━━━\u001b[0m \u001b[32m150.6/150.6 kB\u001b[0m \u001b[31m5.3 MB/s\u001b[0m eta \u001b[36m0:00:00\u001b[0m\n",
            "\u001b[?25hDownloading nvidia_cublas_cu12-12.4.5.8-py3-none-manylinux2014_x86_64.whl (363.4 MB)\n",
            "\u001b[2K   \u001b[90m━━━━━━━━━━━━━━━━━━━━━━━━━━━━━━━━━━━━━━━━\u001b[0m \u001b[32m363.4/363.4 MB\u001b[0m \u001b[31m3.7 MB/s\u001b[0m eta \u001b[36m0:00:00\u001b[0m\n",
            "\u001b[?25hDownloading nvidia_cuda_cupti_cu12-12.4.127-py3-none-manylinux2014_x86_64.whl (13.8 MB)\n",
            "\u001b[2K   \u001b[90m━━━━━━━━━━━━━━━━━━━━━━━━━━━━━━━━━━━━━━━━\u001b[0m \u001b[32m13.8/13.8 MB\u001b[0m \u001b[31m108.9 MB/s\u001b[0m eta \u001b[36m0:00:00\u001b[0m\n",
            "\u001b[?25hDownloading nvidia_cuda_nvrtc_cu12-12.4.127-py3-none-manylinux2014_x86_64.whl (24.6 MB)\n",
            "\u001b[2K   \u001b[90m━━━━━━━━━━━━━━━━━━━━━━━━━━━━━━━━━━━━━━━━\u001b[0m \u001b[32m24.6/24.6 MB\u001b[0m \u001b[31m84.2 MB/s\u001b[0m eta \u001b[36m0:00:00\u001b[0m\n",
            "\u001b[?25hDownloading nvidia_cuda_runtime_cu12-12.4.127-py3-none-manylinux2014_x86_64.whl (883 kB)\n",
            "\u001b[2K   \u001b[90m━━━━━━━━━━━━━━━━━━━━━━━━━━━━━━━━━━━━━━━━\u001b[0m \u001b[32m883.7/883.7 kB\u001b[0m \u001b[31m48.0 MB/s\u001b[0m eta \u001b[36m0:00:00\u001b[0m\n",
            "\u001b[?25hDownloading nvidia_cudnn_cu12-9.1.0.70-py3-none-manylinux2014_x86_64.whl (664.8 MB)\n",
            "\u001b[2K   \u001b[90m━━━━━━━━━━━━━━━━━━━━━━━━━━━━━━━━━━━━━━━━\u001b[0m \u001b[32m664.8/664.8 MB\u001b[0m \u001b[31m1.1 MB/s\u001b[0m eta \u001b[36m0:00:00\u001b[0m\n",
            "\u001b[?25hDownloading nvidia_cufft_cu12-11.2.1.3-py3-none-manylinux2014_x86_64.whl (211.5 MB)\n",
            "\u001b[2K   \u001b[90m━━━━━━━━━━━━━━━━━━━━━━━━━━━━━━━━━━━━━━━━\u001b[0m \u001b[32m211.5/211.5 MB\u001b[0m \u001b[31m5.8 MB/s\u001b[0m eta \u001b[36m0:00:00\u001b[0m\n",
            "\u001b[?25hDownloading nvidia_curand_cu12-10.3.5.147-py3-none-manylinux2014_x86_64.whl (56.3 MB)\n",
            "\u001b[2K   \u001b[90m━━━━━━━━━━━━━━━━━━━━━━━━━━━━━━━━━━━━━━━━\u001b[0m \u001b[32m56.3/56.3 MB\u001b[0m \u001b[31m12.1 MB/s\u001b[0m eta \u001b[36m0:00:00\u001b[0m\n",
            "\u001b[?25hDownloading nvidia_cusolver_cu12-11.6.1.9-py3-none-manylinux2014_x86_64.whl (127.9 MB)\n",
            "\u001b[2K   \u001b[90m━━━━━━━━━━━━━━━━━━━━━━━━━━━━━━━━━━━━━━━━\u001b[0m \u001b[32m127.9/127.9 MB\u001b[0m \u001b[31m7.1 MB/s\u001b[0m eta \u001b[36m0:00:00\u001b[0m\n",
            "\u001b[?25hDownloading nvidia_cusparse_cu12-12.3.1.170-py3-none-manylinux2014_x86_64.whl (207.5 MB)\n",
            "\u001b[2K   \u001b[90m━━━━━━━━━━━━━━━━━━━━━━━━━━━━━━━━━━━━━━━━\u001b[0m \u001b[32m207.5/207.5 MB\u001b[0m \u001b[31m5.9 MB/s\u001b[0m eta \u001b[36m0:00:00\u001b[0m\n",
            "\u001b[?25hDownloading nvidia_nvjitlink_cu12-12.4.127-py3-none-manylinux2014_x86_64.whl (21.1 MB)\n",
            "\u001b[2K   \u001b[90m━━━━━━━━━━━━━━━━━━━━━━━━━━━━━━━━━━━━━━━━\u001b[0m \u001b[32m21.1/21.1 MB\u001b[0m \u001b[31m84.3 MB/s\u001b[0m eta \u001b[36m0:00:00\u001b[0m\n",
            "\u001b[?25hInstalling collected packages: nvidia-nvjitlink-cu12, nvidia-curand-cu12, nvidia-cufft-cu12, nvidia-cuda-runtime-cu12, nvidia-cuda-nvrtc-cu12, nvidia-cuda-cupti-cu12, nvidia-cublas-cu12, nvidia-cusparse-cu12, nvidia-cudnn-cu12, nvidia-cusolver-cu12, bertopic\n",
            "  Attempting uninstall: nvidia-nvjitlink-cu12\n",
            "    Found existing installation: nvidia-nvjitlink-cu12 12.5.82\n",
            "    Uninstalling nvidia-nvjitlink-cu12-12.5.82:\n",
            "      Successfully uninstalled nvidia-nvjitlink-cu12-12.5.82\n",
            "  Attempting uninstall: nvidia-curand-cu12\n",
            "    Found existing installation: nvidia-curand-cu12 10.3.6.82\n",
            "    Uninstalling nvidia-curand-cu12-10.3.6.82:\n",
            "      Successfully uninstalled nvidia-curand-cu12-10.3.6.82\n",
            "  Attempting uninstall: nvidia-cufft-cu12\n",
            "    Found existing installation: nvidia-cufft-cu12 11.2.3.61\n",
            "    Uninstalling nvidia-cufft-cu12-11.2.3.61:\n",
            "      Successfully uninstalled nvidia-cufft-cu12-11.2.3.61\n",
            "  Attempting uninstall: nvidia-cuda-runtime-cu12\n",
            "    Found existing installation: nvidia-cuda-runtime-cu12 12.5.82\n",
            "    Uninstalling nvidia-cuda-runtime-cu12-12.5.82:\n",
            "      Successfully uninstalled nvidia-cuda-runtime-cu12-12.5.82\n",
            "  Attempting uninstall: nvidia-cuda-nvrtc-cu12\n",
            "    Found existing installation: nvidia-cuda-nvrtc-cu12 12.5.82\n",
            "    Uninstalling nvidia-cuda-nvrtc-cu12-12.5.82:\n",
            "      Successfully uninstalled nvidia-cuda-nvrtc-cu12-12.5.82\n",
            "  Attempting uninstall: nvidia-cuda-cupti-cu12\n",
            "    Found existing installation: nvidia-cuda-cupti-cu12 12.5.82\n",
            "    Uninstalling nvidia-cuda-cupti-cu12-12.5.82:\n",
            "      Successfully uninstalled nvidia-cuda-cupti-cu12-12.5.82\n",
            "  Attempting uninstall: nvidia-cublas-cu12\n",
            "    Found existing installation: nvidia-cublas-cu12 12.5.3.2\n",
            "    Uninstalling nvidia-cublas-cu12-12.5.3.2:\n",
            "      Successfully uninstalled nvidia-cublas-cu12-12.5.3.2\n",
            "  Attempting uninstall: nvidia-cusparse-cu12\n",
            "    Found existing installation: nvidia-cusparse-cu12 12.5.1.3\n",
            "    Uninstalling nvidia-cusparse-cu12-12.5.1.3:\n",
            "      Successfully uninstalled nvidia-cusparse-cu12-12.5.1.3\n",
            "  Attempting uninstall: nvidia-cudnn-cu12\n",
            "    Found existing installation: nvidia-cudnn-cu12 9.3.0.75\n",
            "    Uninstalling nvidia-cudnn-cu12-9.3.0.75:\n",
            "      Successfully uninstalled nvidia-cudnn-cu12-9.3.0.75\n",
            "  Attempting uninstall: nvidia-cusolver-cu12\n",
            "    Found existing installation: nvidia-cusolver-cu12 11.6.3.83\n",
            "    Uninstalling nvidia-cusolver-cu12-11.6.3.83:\n",
            "      Successfully uninstalled nvidia-cusolver-cu12-11.6.3.83\n",
            "Successfully installed bertopic-0.17.0 nvidia-cublas-cu12-12.4.5.8 nvidia-cuda-cupti-cu12-12.4.127 nvidia-cuda-nvrtc-cu12-12.4.127 nvidia-cuda-runtime-cu12-12.4.127 nvidia-cudnn-cu12-9.1.0.70 nvidia-cufft-cu12-11.2.1.3 nvidia-curand-cu12-10.3.5.147 nvidia-cusolver-cu12-11.6.1.9 nvidia-cusparse-cu12-12.3.1.170 nvidia-nvjitlink-cu12-12.4.127\n"
          ]
        }
      ]
    },
    {
      "cell_type": "code",
      "source": [],
      "metadata": {
        "id": "iXWoizSmuGpK"
      },
      "execution_count": null,
      "outputs": []
    },
    {
      "cell_type": "markdown",
      "source": [
        "## Różnice między metodami Topic Modeling\n",
        "\n",
        "Poniżej porównanie czterech popularnych technik wydobywania tematów: **LSA**, **LDA**, **NMF** i **BERTopic**.\n",
        "\n",
        "| Cecha / Metoda        | LSA (SVD)                                  | LDA (Dirichlet)                             | NMF (Non-negative MF)                       | BERTopic                                  |\n",
        "|-----------------------|--------------------------------------------|----------------------------------------------|---------------------------------------------|-------------------------------------------|\n",
        "| **Typ modelu**        | Algebraiczna dekompozycja macierzy         | Probabilistyczny model generatywny           | Algebraiczny, z ograniczeniem nieujemności  | Hybrydowy: embeddings + clustering + UMAP |\n",
        "| **Wejście**           | Macierz TF–IDF                             | Bag-of-words lub TF–IDF                      | Macierz TF–IDF                              | Dokumenty + embeddingi (np. BERT)         |\n",
        "| **Wyjście**           | Latentne składniki (komponenty)            | Rozkład tematów dla dokumentu                | Rozkład tematów dla dokumentu               | Tematy jako zbiory embeddingów            |\n",
        "| **Interpretowalność** | Średnia – składowe mogą być trudne do nazwania | Wysoka – tematy to rozkłady słów            | Wysoka – tematy zdefiniowane dodatkowymi wagami | Bardzo wysoka – automatyczne etykiety i wizualizacje |\n",
        "| **Parametry kluczowe**| liczba komponentów \\(k\\)                    | liczba tematów, α, β                          | liczba tematów \\(k\\), inicjalizacja, iteracje | model embeddingów, minimalna wielkość klastra, UMAP |\n",
        "| **Skalowalność**      | Bardzo szybka (SVD)                        | Umiarkowana – wymaga iteracji VB/Gibbs       | Szybka (algorytmy gradientowe)              | Wolniejsza (embedding + redukcja wymiaru) |\n",
        "| **Obsługa semantyki**  | Ograniczona – bazuje na globalnej statystyce | Lepiej – model zakłada mieszanki tematów     | Podobnie do LDA, ale bez niepewności        | Najlepsza – korzysta z kontekstowych embeddingów |\n",
        "| **Niepewność**        | Brak estymacji niepewności                 | Model probabilistyczny – zwraca niepewność   | Brak formalnej niepewności                  | Możliwość oceny jakości klastrów (probs) |\n",
        "| **Strojenie**         | Proste – głównie liczba komponentów        | Średnie – α, β, liczba tematów               | Proste – głównie liczba tematów             | Więcej hiperparametrów (embeddingi, redukcja, clustering) |\n",
        "| **Wizualizacje**      | Zewnętrzne (np. wykresy słów, scatter plot) | Zewnętrzne + narzędzia (pyLDAvis)           | Zewnętrzne (jak w LSA)                      | Wbudowane (bary, UMAP, hierarchie tematów) |\n",
        "| **Kiedy używać?**     | Prototypy, szybkie analizy                  | Gdy potrzebujemy interpretowalnych tematów   | Gdy chcemy tematy z dodatkowymi ograniczeniami | Gdy potrzebujemy kontekstowych tematów i interakcji |\n",
        "\n",
        "---\n",
        "\n",
        "### Krótkie podsumowanie\n",
        "\n",
        "- **LSA**: prosta i szybka metoda redukcji wymiaru, dobre na małe i średnie korpusy, ale bez modelowania niepewności i kontekstu.  \n",
        "- **LDA**: klasyczny probabilistyczny model, zwraca mieszanki tematów i pozwala modelować niepewność, wymaga strojenia hiperparametrów.  \n",
        "- **NMF**: alternatywa algebraiczna do LDA, wymusza nieujemność wag, łatwa do zrozumienia i interpretacji, szybka w działaniu.  \n",
        "- **BERTopic**: nowoczesna metoda łącząca moc pretrenowanych embeddingów (np. BERT), redukcję wymiaru (UMAP) i klastrowanie, oferuje automatyczne etykiety i wizualizacje, ale wymaga więcej zasobów i strojenia.  \n",
        "\n",
        "Wybór metody zależy od charakteru danych, wymagań dotyczących interpretowalności, dostępnych zasobów obliczeniowych oraz tego, czy zależy nam na kontekstowych embeddingach i wbudowanych wizualizacjach.  \n"
      ],
      "metadata": {
        "id": "_OJVD-fSuHMG"
      }
    },
    {
      "cell_type": "markdown",
      "source": [
        "## Zadanie\n",
        "\n",
        "- Wybrać dowolny zbiór danych i przetestować wspomniane metody LSA, LDA, NMF oraz BERTopic(bazująć na [link](https://maartengr.github.io/BERTopic/getting_started/quickstart/quickstart.html#quick-start)"
      ],
      "metadata": {
        "id": "1t59Hf4bv-PZ"
      }
    }
  ]
}