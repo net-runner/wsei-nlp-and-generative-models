{
  "cells": [
    {
      "cell_type": "code",
      "execution_count": null,
      "metadata": {
        "id": "Imksa55BteRA"
      },
      "outputs": [],
      "source": []
    },
    {
      "cell_type": "markdown",
      "metadata": {
        "id": "89_d2ucKtgOO"
      },
      "source": [
        "# Zadania\n",
        "\n",
        "Zaimplementuj w **PyTorch** następujące modele sieci rekurencyjnych:\n",
        "- **Simple RNN**\n",
        "- **LSTM**\n",
        "- **BiLSTM**\n",
        "- **GRU**\n",
        "- **BiGRU**\n",
        "\n",
        "Dla każdego typu sieci zaproponuj **po dwie różne architektury** (np. różniące się liczbą warstw, rozmiarem warstw ukrytych, dropoutem itp.). W procesie uczenia wykorzystaj mechanizm **Early Stopping** oparty na **Validation Loss**.\n",
        "\n",
        "Skorzystaj z poniższego **datasetu** do trenowania i ewaluacji modeli. Wykorzystaj dataset dołączony do zadania oraz zapoznaj sie z bilbioteka TorchText i wybierz dataset (https://pytorch.org/text/stable/index.html) np. AmazonReview, YelpReviewFull czy YahooAnswers.\n",
        "\n",
        "Finalnie zadanie ma być wykonane na dwóch datasetach!\n",
        "\n",
        "## Analiza i prezentacja wyników\n",
        "\n",
        "W ramach analizy i prezentacji wyników wykonaj następujące kroki:\n",
        "\n",
        "1. **Wizualizacje metryk na przestrzeni epok**:\n",
        "   - Wykresy **Train Accuracy** i **Validation Accuracy**,\n",
        "   - Wykresy **Train F1-Score** i **Validation F1-Score**,\n",
        "   - Po zakończeniu uczenia przedstaw **Test Accuracy** i **Test F1-Score** dla najlepszego modelu.\n",
        "\n",
        "2. **Wizualizacje danych**:\n",
        "   - Przed i po procesie **clean-up** danych tekstowych przedstaw:\n",
        "     - Przykładowe **n-gramy** (np. bigramy, trigramy),\n",
        "     - Wizualizacje **WordCloud** dla danych surowych i oczyszczonych.\n",
        "\n",
        "3. **Eksperymenty**:\n",
        "   - Uruchom każdy model **minimum 3 razy** (z różnymi inicjalizacjami wag),\n",
        "   - Dla każdej architektury przedstaw wyniki (**Accuracy**, **F1-Score**) po ostatniej najlepszej epoce przed zadziałaniem **Early Stoppingu**.\n",
        "\n",
        "4. **Porównanie z modelem bazowym**:\n",
        "   - Porównaj wyniki uzyskane z powyższych modeli z wynikami modelu klasyfikacji tekstu opartego na **Word Embedding** (np. z Lab01, wykorzystując statyczne embeddingi typu GloVe lub word2vec).\n",
        "\n",
        "5. **Wnioski**:\n",
        "   - Przeanalizuj i podsumuj, która architektura sieci (**Simple RNN**, **LSTM**, **BiLSTM**, **GRU**, **BiGRU**) sprawuje się najlepiej na danym zbiorze danych, uwzględniając metryki **Accuracy** i **F1-Score** oraz stabilność wyników."
      ]
    }
  ],
  "metadata": {
    "colab": {
      "provenance": []
    },
    "kernelspec": {
      "display_name": "Python 3",
      "name": "python3"
    },
    "language_info": {
      "name": "python",
      "version": "3.12.0"
    }
  },
  "nbformat": 4,
  "nbformat_minor": 0
}
