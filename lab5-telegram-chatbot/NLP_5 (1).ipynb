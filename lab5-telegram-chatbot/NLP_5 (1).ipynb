{
  "nbformat": 4,
  "nbformat_minor": 0,
  "metadata": {
    "colab": {
      "provenance": []
    },
    "kernelspec": {
      "name": "python3",
      "display_name": "Python 3"
    },
    "language_info": {
      "name": "python"
    }
  },
  "cells": [
    {
      "cell_type": "markdown",
      "source": [
        "# Implementacja chatbota w Telegramie\n",
        "\n",
        "Aby zaimplementować chatbota w Telegramie, wykonaj następujące kroki:\n",
        "\n",
        "### Krok 1: Utwórz bota w Telegramie\n",
        "1. Zainstaluj aplikację Telegram na swoim urządzeniu.\n",
        "2. Wejdź do **BotFather** w Telegramie (wyszukaj \"BotFather\").\n",
        "3. Wyślij komendę `/start`, a następnie `/newbot`, aby stworzyć nowego bota.\n",
        "4. Podaj nazwę i użytkownika bota.\n",
        "5. Otrzymasz token API do swojego bota (zapisz go, będzie ci potrzebny do autoryzacji bota).\n",
        "\n",
        "### Krok 2: Instalacja bibliotek i przygotowanie środowiska\n",
        "Zainstaluj bibliotekę `python-telegram-bot` oraz inne zależności:\n",
        "\n",
        "```bash\n",
        "pip install python-telegram-bot\n",
        "```\n",
        "\n",
        "## Krok 3: Kodowanie chatbota\n",
        "\n",
        "\n",
        "# Token bota, który otrzymałeś od BotFather\n",
        "```bash\n",
        "TOKEN = 'TWÓJ_TOKEN_BOTA'\n",
        "```\n",
        "\n",
        "```python\n",
        "from telegram import Update\n",
        "from telegram.ext import ApplicationBuilder, CommandHandler, MessageHandler, filters, ContextTypes\n",
        "from telegram.error import BadRequest\n",
        "import os\n",
        "\n",
        "BOT_TOKEN      = os.getenv('TELEGRAM_BOT_TOKEN', 'WASZ TOKEN OD BOT FATHER')\n",
        "\n",
        "async def start(update: Update, context: ContextTypes.DEFAULT_TYPE):\n",
        "    await update.message.reply_text(\n",
        "        '👋 Witaj! Jestem botem nawyków i asystentem. Użyj /help aby zobaczyć listę komend.'\n",
        "    )\n",
        "\n",
        "def main():\n",
        "\n",
        "    app=ApplicationBuilder().token(BOT_TOKEN).build()\n",
        "\n",
        "    app.add_handler(CommandHandler('start',start))\n",
        "\n",
        "    app.add_handler(CommandHandler('help',help_command))\n",
        "\n",
        "    logger.info('🚀 Bot started')\n",
        "\n",
        "    app.run_polling()\n",
        "\n",
        "\n",
        "\n",
        "if __name__=='__main__':\n",
        "\n",
        "    main()\n",
        "\n",
        "\n",
        "\n",
        "\n",
        "\n",
        "\n",
        "\n",
        "\n",
        "\n",
        "```\n",
        "\n"
      ],
      "metadata": {
        "id": "foR628U9y4TL"
      }
    },
    {
      "cell_type": "markdown",
      "source": [
        "# Zadanie\n",
        "\n",
        "Zbuduj bota Telegramowego, który:\n",
        "1. Za pomocą komendy `/weather <miasto>` wyświetli pogodę w danym mieście, korzystając z API OpenWeatherMap.\n",
        "2. Doda inne komendy, np. `/help`, która wyświetli pomoc dotyczącą używania bota.\n",
        "3. Dodaj własne komendy, korzystając z funkcji, które implementowałeś w innych laboratoriach lub przedmiotach albo czegoś co przyda Ci sie w codziennym życiu.\n"
      ],
      "metadata": {
        "id": "RZurOmlLzwi1"
      }
    }
  ]
}